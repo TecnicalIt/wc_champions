{
 "cells": [
  {
   "cell_type": "code",
   "execution_count": 1,
   "id": "a229b8a1",
   "metadata": {},
   "outputs": [],
   "source": [
    "import pandas as pd\n",
    "import numpy as np\n",
    "import matplotlib.pyplot as plt"
   ]
  },
  {
   "cell_type": "code",
   "execution_count": 2,
   "id": "bb7dc999",
   "metadata": {},
   "outputs": [],
   "source": [
    "df = pd.read_csv(\"wc_champions.csv\")"
   ]
  },
  {
   "cell_type": "code",
   "execution_count": 3,
   "id": "8772f904",
   "metadata": {},
   "outputs": [
    {
     "data": {
      "text/html": [
       "<div>\n",
       "<style scoped>\n",
       "    .dataframe tbody tr th:only-of-type {\n",
       "        vertical-align: middle;\n",
       "    }\n",
       "\n",
       "    .dataframe tbody tr th {\n",
       "        vertical-align: top;\n",
       "    }\n",
       "\n",
       "    .dataframe thead th {\n",
       "        text-align: right;\n",
       "    }\n",
       "</style>\n",
       "<table border=\"1\" class=\"dataframe\">\n",
       "  <thead>\n",
       "    <tr style=\"text-align: right;\">\n",
       "      <th></th>\n",
       "      <th>Unnamed: 0</th>\n",
       "      <th>champion</th>\n",
       "      <th>sum_total</th>\n",
       "      <th>win_total</th>\n",
       "      <th>lose_total</th>\n",
       "      <th>winrate_total</th>\n",
       "      <th>pick_rate</th>\n",
       "      <th>sum_blue_side</th>\n",
       "      <th>win_blue_side</th>\n",
       "      <th>lose_blue_side</th>\n",
       "      <th>winrate_blue_side</th>\n",
       "      <th>sum_red_side</th>\n",
       "      <th>win_red_side</th>\n",
       "      <th>lose_red_side</th>\n",
       "      <th>winrate_red_side</th>\n",
       "      <th>sum_bans</th>\n",
       "      <th>ban_rate</th>\n",
       "      <th>sum_pick_ban</th>\n",
       "      <th>pick_ban_rate</th>\n",
       "    </tr>\n",
       "  </thead>\n",
       "  <tbody>\n",
       "    <tr>\n",
       "      <th>0</th>\n",
       "      <td>0</td>\n",
       "      <td>Sylas</td>\n",
       "      <td>50</td>\n",
       "      <td>33</td>\n",
       "      <td>17</td>\n",
       "      <td>66.00%</td>\n",
       "      <td>39.37%</td>\n",
       "      <td>28</td>\n",
       "      <td>21</td>\n",
       "      <td>7</td>\n",
       "      <td>75.00%</td>\n",
       "      <td>22</td>\n",
       "      <td>12</td>\n",
       "      <td>10</td>\n",
       "      <td>54.55%</td>\n",
       "      <td>49</td>\n",
       "      <td>38.58%</td>\n",
       "      <td>99</td>\n",
       "      <td>77.95%</td>\n",
       "    </tr>\n",
       "    <tr>\n",
       "      <th>1</th>\n",
       "      <td>1</td>\n",
       "      <td>Sejuani</td>\n",
       "      <td>49</td>\n",
       "      <td>24</td>\n",
       "      <td>25</td>\n",
       "      <td>48.98%</td>\n",
       "      <td>38.58%</td>\n",
       "      <td>23</td>\n",
       "      <td>12</td>\n",
       "      <td>11</td>\n",
       "      <td>52.17%</td>\n",
       "      <td>26</td>\n",
       "      <td>12</td>\n",
       "      <td>14</td>\n",
       "      <td>46.15%</td>\n",
       "      <td>57</td>\n",
       "      <td>44.88%</td>\n",
       "      <td>106</td>\n",
       "      <td>83.46%</td>\n",
       "    </tr>\n",
       "    <tr>\n",
       "      <th>2</th>\n",
       "      <td>2</td>\n",
       "      <td>Azir</td>\n",
       "      <td>48</td>\n",
       "      <td>24</td>\n",
       "      <td>24</td>\n",
       "      <td>50.00%</td>\n",
       "      <td>37.80%</td>\n",
       "      <td>27</td>\n",
       "      <td>14</td>\n",
       "      <td>13</td>\n",
       "      <td>51.85%</td>\n",
       "      <td>21</td>\n",
       "      <td>10</td>\n",
       "      <td>11</td>\n",
       "      <td>47.62%</td>\n",
       "      <td>43</td>\n",
       "      <td>33.86%</td>\n",
       "      <td>91</td>\n",
       "      <td>71.65%</td>\n",
       "    </tr>\n",
       "    <tr>\n",
       "      <th>3</th>\n",
       "      <td>3</td>\n",
       "      <td>Aatrox</td>\n",
       "      <td>46</td>\n",
       "      <td>29</td>\n",
       "      <td>17</td>\n",
       "      <td>63.04%</td>\n",
       "      <td>36.22%</td>\n",
       "      <td>35</td>\n",
       "      <td>24</td>\n",
       "      <td>11</td>\n",
       "      <td>68.57%</td>\n",
       "      <td>11</td>\n",
       "      <td>5</td>\n",
       "      <td>6</td>\n",
       "      <td>45.45%</td>\n",
       "      <td>79</td>\n",
       "      <td>62.20%</td>\n",
       "      <td>125</td>\n",
       "      <td>98.43%</td>\n",
       "    </tr>\n",
       "    <tr>\n",
       "      <th>4</th>\n",
       "      <td>4</td>\n",
       "      <td>Aphelios</td>\n",
       "      <td>43</td>\n",
       "      <td>23</td>\n",
       "      <td>20</td>\n",
       "      <td>53.49%</td>\n",
       "      <td>33.86%</td>\n",
       "      <td>20</td>\n",
       "      <td>10</td>\n",
       "      <td>10</td>\n",
       "      <td>50.00%</td>\n",
       "      <td>23</td>\n",
       "      <td>13</td>\n",
       "      <td>10</td>\n",
       "      <td>56.52%</td>\n",
       "      <td>20</td>\n",
       "      <td>15.75%</td>\n",
       "      <td>63</td>\n",
       "      <td>49.61%</td>\n",
       "    </tr>\n",
       "  </tbody>\n",
       "</table>\n",
       "</div>"
      ],
      "text/plain": [
       "   Unnamed: 0  champion  sum_total  win_total  lose_total winrate_total  \\\n",
       "0           0     Sylas         50         33          17        66.00%   \n",
       "1           1   Sejuani         49         24          25        48.98%   \n",
       "2           2      Azir         48         24          24        50.00%   \n",
       "3           3    Aatrox         46         29          17        63.04%   \n",
       "4           4  Aphelios         43         23          20        53.49%   \n",
       "\n",
       "  pick_rate  sum_blue_side  win_blue_side  lose_blue_side winrate_blue_side  \\\n",
       "0    39.37%             28             21               7            75.00%   \n",
       "1    38.58%             23             12              11            52.17%   \n",
       "2    37.80%             27             14              13            51.85%   \n",
       "3    36.22%             35             24              11            68.57%   \n",
       "4    33.86%             20             10              10            50.00%   \n",
       "\n",
       "   sum_red_side  win_red_side  lose_red_side winrate_red_side  sum_bans  \\\n",
       "0            22            12             10           54.55%        49   \n",
       "1            26            12             14           46.15%        57   \n",
       "2            21            10             11           47.62%        43   \n",
       "3            11             5              6           45.45%        79   \n",
       "4            23            13             10           56.52%        20   \n",
       "\n",
       "  ban_rate  sum_pick_ban pick_ban_rate  \n",
       "0   38.58%            99        77.95%  \n",
       "1   44.88%           106        83.46%  \n",
       "2   33.86%            91        71.65%  \n",
       "3   62.20%           125        98.43%  \n",
       "4   15.75%            63        49.61%  "
      ]
     },
     "execution_count": 3,
     "metadata": {},
     "output_type": "execute_result"
    }
   ],
   "source": [
    "df.head()"
   ]
  },
  {
   "cell_type": "code",
   "execution_count": 4,
   "id": "8195fe6b",
   "metadata": {},
   "outputs": [
    {
     "data": {
      "text/plain": [
       "(108, 19)"
      ]
     },
     "execution_count": 4,
     "metadata": {},
     "output_type": "execute_result"
    }
   ],
   "source": [
    "df.shape"
   ]
  },
  {
   "cell_type": "code",
   "execution_count": 5,
   "id": "ed25b02a",
   "metadata": {},
   "outputs": [
    {
     "data": {
      "text/plain": [
       "Unnamed: 0           0\n",
       "champion             0\n",
       "sum_total            0\n",
       "win_total            0\n",
       "lose_total           0\n",
       "winrate_total        0\n",
       "pick_rate            0\n",
       "sum_blue_side        0\n",
       "win_blue_side        0\n",
       "lose_blue_side       0\n",
       "winrate_blue_side    0\n",
       "sum_red_side         0\n",
       "win_red_side         0\n",
       "lose_red_side        0\n",
       "winrate_red_side     0\n",
       "sum_bans             0\n",
       "ban_rate             0\n",
       "sum_pick_ban         0\n",
       "pick_ban_rate        0\n",
       "dtype: int64"
      ]
     },
     "execution_count": 5,
     "metadata": {},
     "output_type": "execute_result"
    }
   ],
   "source": [
    "df.isnull().sum()"
   ]
  },
  {
   "cell_type": "code",
   "execution_count": 6,
   "id": "97a6a3fd",
   "metadata": {},
   "outputs": [
    {
     "data": {
      "text/plain": [
       "Unnamed: 0            int64\n",
       "champion             object\n",
       "sum_total             int64\n",
       "win_total             int64\n",
       "lose_total            int64\n",
       "winrate_total        object\n",
       "pick_rate            object\n",
       "sum_blue_side         int64\n",
       "win_blue_side         int64\n",
       "lose_blue_side        int64\n",
       "winrate_blue_side    object\n",
       "sum_red_side          int64\n",
       "win_red_side          int64\n",
       "lose_red_side         int64\n",
       "winrate_red_side     object\n",
       "sum_bans              int64\n",
       "ban_rate             object\n",
       "sum_pick_ban          int64\n",
       "pick_ban_rate        object\n",
       "dtype: object"
      ]
     },
     "execution_count": 6,
     "metadata": {},
     "output_type": "execute_result"
    }
   ],
   "source": [
    "df.dtypes"
   ]
  },
  {
   "cell_type": "code",
   "execution_count": 7,
   "id": "6b27f5a8",
   "metadata": {},
   "outputs": [
    {
     "data": {
      "text/plain": [
       "Index(['Unnamed: 0', 'champion', 'sum_total', 'win_total', 'lose_total',\n",
       "       'winrate_total', 'pick_rate', 'sum_blue_side', 'win_blue_side',\n",
       "       'lose_blue_side', 'winrate_blue_side', 'sum_red_side', 'win_red_side',\n",
       "       'lose_red_side', 'winrate_red_side', 'sum_bans', 'ban_rate',\n",
       "       'sum_pick_ban', 'pick_ban_rate'],\n",
       "      dtype='object')"
      ]
     },
     "execution_count": 7,
     "metadata": {},
     "output_type": "execute_result"
    }
   ],
   "source": [
    "df.columns"
   ]
  },
  {
   "cell_type": "code",
   "execution_count": 8,
   "id": "5650d380",
   "metadata": {},
   "outputs": [
    {
     "name": "stderr",
     "output_type": "stream",
     "text": [
      "C:\\Users\\LIS\\AppData\\Local\\Temp\\ipykernel_3552\\1134722465.py:1: FutureWarning: The default value of numeric_only in DataFrame.corr is deprecated. In a future version, it will default to False. Select only valid columns or specify the value of numeric_only to silence this warning.\n",
      "  df.corr()\n"
     ]
    },
    {
     "data": {
      "text/html": [
       "<div>\n",
       "<style scoped>\n",
       "    .dataframe tbody tr th:only-of-type {\n",
       "        vertical-align: middle;\n",
       "    }\n",
       "\n",
       "    .dataframe tbody tr th {\n",
       "        vertical-align: top;\n",
       "    }\n",
       "\n",
       "    .dataframe thead th {\n",
       "        text-align: right;\n",
       "    }\n",
       "</style>\n",
       "<table border=\"1\" class=\"dataframe\">\n",
       "  <thead>\n",
       "    <tr style=\"text-align: right;\">\n",
       "      <th></th>\n",
       "      <th>Unnamed: 0</th>\n",
       "      <th>sum_total</th>\n",
       "      <th>win_total</th>\n",
       "      <th>lose_total</th>\n",
       "      <th>sum_blue_side</th>\n",
       "      <th>win_blue_side</th>\n",
       "      <th>lose_blue_side</th>\n",
       "      <th>sum_red_side</th>\n",
       "      <th>win_red_side</th>\n",
       "      <th>lose_red_side</th>\n",
       "      <th>sum_bans</th>\n",
       "      <th>sum_pick_ban</th>\n",
       "    </tr>\n",
       "  </thead>\n",
       "  <tbody>\n",
       "    <tr>\n",
       "      <th>Unnamed: 0</th>\n",
       "      <td>1.000000</td>\n",
       "      <td>-0.890336</td>\n",
       "      <td>-0.838671</td>\n",
       "      <td>-0.864975</td>\n",
       "      <td>-0.836706</td>\n",
       "      <td>-0.755420</td>\n",
       "      <td>-0.794526</td>\n",
       "      <td>-0.863701</td>\n",
       "      <td>-0.814203</td>\n",
       "      <td>-0.783180</td>\n",
       "      <td>-0.617153</td>\n",
       "      <td>-0.792334</td>\n",
       "    </tr>\n",
       "    <tr>\n",
       "      <th>sum_total</th>\n",
       "      <td>-0.890336</td>\n",
       "      <td>1.000000</td>\n",
       "      <td>0.962837</td>\n",
       "      <td>0.946609</td>\n",
       "      <td>0.960495</td>\n",
       "      <td>0.893249</td>\n",
       "      <td>0.877103</td>\n",
       "      <td>0.945920</td>\n",
       "      <td>0.899932</td>\n",
       "      <td>0.849525</td>\n",
       "      <td>0.690075</td>\n",
       "      <td>0.887961</td>\n",
       "    </tr>\n",
       "    <tr>\n",
       "      <th>win_total</th>\n",
       "      <td>-0.838671</td>\n",
       "      <td>0.962837</td>\n",
       "      <td>1.000000</td>\n",
       "      <td>0.824359</td>\n",
       "      <td>0.948406</td>\n",
       "      <td>0.948917</td>\n",
       "      <td>0.776298</td>\n",
       "      <td>0.883250</td>\n",
       "      <td>0.906280</td>\n",
       "      <td>0.727384</td>\n",
       "      <td>0.677931</td>\n",
       "      <td>0.863542</td>\n",
       "    </tr>\n",
       "    <tr>\n",
       "      <th>lose_total</th>\n",
       "      <td>-0.864975</td>\n",
       "      <td>0.946609</td>\n",
       "      <td>0.824359</td>\n",
       "      <td>1.000000</td>\n",
       "      <td>0.881036</td>\n",
       "      <td>0.739485</td>\n",
       "      <td>0.911690</td>\n",
       "      <td>0.928261</td>\n",
       "      <td>0.804385</td>\n",
       "      <td>0.912277</td>\n",
       "      <td>0.637114</td>\n",
       "      <td>0.830310</td>\n",
       "    </tr>\n",
       "    <tr>\n",
       "      <th>sum_blue_side</th>\n",
       "      <td>-0.836706</td>\n",
       "      <td>0.960495</td>\n",
       "      <td>0.948406</td>\n",
       "      <td>0.881036</td>\n",
       "      <td>1.000000</td>\n",
       "      <td>0.943284</td>\n",
       "      <td>0.895341</td>\n",
       "      <td>0.818271</td>\n",
       "      <td>0.801481</td>\n",
       "      <td>0.711931</td>\n",
       "      <td>0.694083</td>\n",
       "      <td>0.872753</td>\n",
       "    </tr>\n",
       "    <tr>\n",
       "      <th>win_blue_side</th>\n",
       "      <td>-0.755420</td>\n",
       "      <td>0.893249</td>\n",
       "      <td>0.948917</td>\n",
       "      <td>0.739485</td>\n",
       "      <td>0.943284</td>\n",
       "      <td>1.000000</td>\n",
       "      <td>0.696701</td>\n",
       "      <td>0.745485</td>\n",
       "      <td>0.726619</td>\n",
       "      <td>0.652168</td>\n",
       "      <td>0.697790</td>\n",
       "      <td>0.844887</td>\n",
       "    </tr>\n",
       "    <tr>\n",
       "      <th>lose_blue_side</th>\n",
       "      <td>-0.794526</td>\n",
       "      <td>0.877103</td>\n",
       "      <td>0.776298</td>\n",
       "      <td>0.911690</td>\n",
       "      <td>0.895341</td>\n",
       "      <td>0.696701</td>\n",
       "      <td>1.000000</td>\n",
       "      <td>0.768019</td>\n",
       "      <td>0.757049</td>\n",
       "      <td>0.663429</td>\n",
       "      <td>0.563657</td>\n",
       "      <td>0.752391</td>\n",
       "    </tr>\n",
       "    <tr>\n",
       "      <th>sum_red_side</th>\n",
       "      <td>-0.863701</td>\n",
       "      <td>0.945920</td>\n",
       "      <td>0.883250</td>\n",
       "      <td>0.928261</td>\n",
       "      <td>0.818271</td>\n",
       "      <td>0.745485</td>\n",
       "      <td>0.768019</td>\n",
       "      <td>1.000000</td>\n",
       "      <td>0.924581</td>\n",
       "      <td>0.924850</td>\n",
       "      <td>0.616305</td>\n",
       "      <td>0.816777</td>\n",
       "    </tr>\n",
       "    <tr>\n",
       "      <th>win_red_side</th>\n",
       "      <td>-0.814203</td>\n",
       "      <td>0.899932</td>\n",
       "      <td>0.906280</td>\n",
       "      <td>0.804385</td>\n",
       "      <td>0.801481</td>\n",
       "      <td>0.726619</td>\n",
       "      <td>0.757049</td>\n",
       "      <td>0.924581</td>\n",
       "      <td>1.000000</td>\n",
       "      <td>0.710198</td>\n",
       "      <td>0.541401</td>\n",
       "      <td>0.748508</td>\n",
       "    </tr>\n",
       "    <tr>\n",
       "      <th>lose_red_side</th>\n",
       "      <td>-0.783180</td>\n",
       "      <td>0.849525</td>\n",
       "      <td>0.727384</td>\n",
       "      <td>0.912277</td>\n",
       "      <td>0.711931</td>\n",
       "      <td>0.652168</td>\n",
       "      <td>0.663429</td>\n",
       "      <td>0.924850</td>\n",
       "      <td>0.710198</td>\n",
       "      <td>1.000000</td>\n",
       "      <td>0.598364</td>\n",
       "      <td>0.762052</td>\n",
       "    </tr>\n",
       "    <tr>\n",
       "      <th>sum_bans</th>\n",
       "      <td>-0.617153</td>\n",
       "      <td>0.690075</td>\n",
       "      <td>0.677931</td>\n",
       "      <td>0.637114</td>\n",
       "      <td>0.694083</td>\n",
       "      <td>0.697790</td>\n",
       "      <td>0.563657</td>\n",
       "      <td>0.616305</td>\n",
       "      <td>0.541401</td>\n",
       "      <td>0.598364</td>\n",
       "      <td>1.000000</td>\n",
       "      <td>0.945620</td>\n",
       "    </tr>\n",
       "    <tr>\n",
       "      <th>sum_pick_ban</th>\n",
       "      <td>-0.792334</td>\n",
       "      <td>0.887961</td>\n",
       "      <td>0.863542</td>\n",
       "      <td>0.830310</td>\n",
       "      <td>0.872753</td>\n",
       "      <td>0.844887</td>\n",
       "      <td>0.752391</td>\n",
       "      <td>0.816777</td>\n",
       "      <td>0.748508</td>\n",
       "      <td>0.762052</td>\n",
       "      <td>0.945620</td>\n",
       "      <td>1.000000</td>\n",
       "    </tr>\n",
       "  </tbody>\n",
       "</table>\n",
       "</div>"
      ],
      "text/plain": [
       "                Unnamed: 0  sum_total  win_total  lose_total  sum_blue_side  \\\n",
       "Unnamed: 0        1.000000  -0.890336  -0.838671   -0.864975      -0.836706   \n",
       "sum_total        -0.890336   1.000000   0.962837    0.946609       0.960495   \n",
       "win_total        -0.838671   0.962837   1.000000    0.824359       0.948406   \n",
       "lose_total       -0.864975   0.946609   0.824359    1.000000       0.881036   \n",
       "sum_blue_side    -0.836706   0.960495   0.948406    0.881036       1.000000   \n",
       "win_blue_side    -0.755420   0.893249   0.948917    0.739485       0.943284   \n",
       "lose_blue_side   -0.794526   0.877103   0.776298    0.911690       0.895341   \n",
       "sum_red_side     -0.863701   0.945920   0.883250    0.928261       0.818271   \n",
       "win_red_side     -0.814203   0.899932   0.906280    0.804385       0.801481   \n",
       "lose_red_side    -0.783180   0.849525   0.727384    0.912277       0.711931   \n",
       "sum_bans         -0.617153   0.690075   0.677931    0.637114       0.694083   \n",
       "sum_pick_ban     -0.792334   0.887961   0.863542    0.830310       0.872753   \n",
       "\n",
       "                win_blue_side  lose_blue_side  sum_red_side  win_red_side  \\\n",
       "Unnamed: 0          -0.755420       -0.794526     -0.863701     -0.814203   \n",
       "sum_total            0.893249        0.877103      0.945920      0.899932   \n",
       "win_total            0.948917        0.776298      0.883250      0.906280   \n",
       "lose_total           0.739485        0.911690      0.928261      0.804385   \n",
       "sum_blue_side        0.943284        0.895341      0.818271      0.801481   \n",
       "win_blue_side        1.000000        0.696701      0.745485      0.726619   \n",
       "lose_blue_side       0.696701        1.000000      0.768019      0.757049   \n",
       "sum_red_side         0.745485        0.768019      1.000000      0.924581   \n",
       "win_red_side         0.726619        0.757049      0.924581      1.000000   \n",
       "lose_red_side        0.652168        0.663429      0.924850      0.710198   \n",
       "sum_bans             0.697790        0.563657      0.616305      0.541401   \n",
       "sum_pick_ban         0.844887        0.752391      0.816777      0.748508   \n",
       "\n",
       "                lose_red_side  sum_bans  sum_pick_ban  \n",
       "Unnamed: 0          -0.783180 -0.617153     -0.792334  \n",
       "sum_total            0.849525  0.690075      0.887961  \n",
       "win_total            0.727384  0.677931      0.863542  \n",
       "lose_total           0.912277  0.637114      0.830310  \n",
       "sum_blue_side        0.711931  0.694083      0.872753  \n",
       "win_blue_side        0.652168  0.697790      0.844887  \n",
       "lose_blue_side       0.663429  0.563657      0.752391  \n",
       "sum_red_side         0.924850  0.616305      0.816777  \n",
       "win_red_side         0.710198  0.541401      0.748508  \n",
       "lose_red_side        1.000000  0.598364      0.762052  \n",
       "sum_bans             0.598364  1.000000      0.945620  \n",
       "sum_pick_ban         0.762052  0.945620      1.000000  "
      ]
     },
     "execution_count": 8,
     "metadata": {},
     "output_type": "execute_result"
    }
   ],
   "source": [
    "df.corr()"
   ]
  },
  {
   "cell_type": "code",
   "execution_count": 9,
   "id": "ce5e3576",
   "metadata": {},
   "outputs": [],
   "source": [
    "df = df.drop([\"Unnamed: 0\"],axis=1)"
   ]
  },
  {
   "cell_type": "code",
   "execution_count": 10,
   "id": "adc5fda6",
   "metadata": {},
   "outputs": [
    {
     "data": {
      "text/plain": [
       "(108, 18)"
      ]
     },
     "execution_count": 10,
     "metadata": {},
     "output_type": "execute_result"
    }
   ],
   "source": [
    "df.shape"
   ]
  },
  {
   "cell_type": "code",
   "execution_count": 11,
   "id": "95338180",
   "metadata": {},
   "outputs": [],
   "source": [
    "x = df.drop(\"sum_pick_ban\",axis=1)"
   ]
  },
  {
   "cell_type": "code",
   "execution_count": 12,
   "id": "38ddd77f",
   "metadata": {},
   "outputs": [
    {
     "data": {
      "text/plain": [
       "(108, 17)"
      ]
     },
     "execution_count": 12,
     "metadata": {},
     "output_type": "execute_result"
    }
   ],
   "source": [
    "x.shape"
   ]
  },
  {
   "cell_type": "code",
   "execution_count": 13,
   "id": "bb1829b9",
   "metadata": {},
   "outputs": [],
   "source": [
    "y = df[\"sum_pick_ban\"]"
   ]
  },
  {
   "cell_type": "code",
   "execution_count": 14,
   "id": "76d95008",
   "metadata": {},
   "outputs": [
    {
     "data": {
      "text/plain": [
       "(108,)"
      ]
     },
     "execution_count": 14,
     "metadata": {},
     "output_type": "execute_result"
    }
   ],
   "source": [
    "y.shape"
   ]
  },
  {
   "cell_type": "code",
   "execution_count": 15,
   "id": "5a3babde",
   "metadata": {},
   "outputs": [],
   "source": [
    "from sklearn.preprocessing import LabelEncoder"
   ]
  },
  {
   "cell_type": "code",
   "execution_count": 16,
   "id": "f2207f8a",
   "metadata": {},
   "outputs": [],
   "source": [
    "object_ = LabelEncoder()"
   ]
  },
  {
   "cell_type": "code",
   "execution_count": 17,
   "id": "caa521a0",
   "metadata": {},
   "outputs": [
    {
     "name": "stderr",
     "output_type": "stream",
     "text": [
      "C:\\Users\\LIS\\AppData\\Local\\Temp\\ipykernel_3552\\1262435715.py:2: DeprecationWarning: Converting `np.inexact` or `np.floating` to a dtype is deprecated. The current result is `float64` which is not strictly correct.\n",
      "  if x[column].dtype == np.number:\n"
     ]
    }
   ],
   "source": [
    "for column in x.columns:\n",
    "    if x[column].dtype == np.number:\n",
    "        continue\n",
    "    x[column] =  LabelEncoder().fit_transform(x[column])"
   ]
  },
  {
   "cell_type": "code",
   "execution_count": 18,
   "id": "bbb8d4ef",
   "metadata": {},
   "outputs": [
    {
     "data": {
      "text/html": [
       "<div>\n",
       "<style scoped>\n",
       "    .dataframe tbody tr th:only-of-type {\n",
       "        vertical-align: middle;\n",
       "    }\n",
       "\n",
       "    .dataframe tbody tr th {\n",
       "        vertical-align: top;\n",
       "    }\n",
       "\n",
       "    .dataframe thead th {\n",
       "        text-align: right;\n",
       "    }\n",
       "</style>\n",
       "<table border=\"1\" class=\"dataframe\">\n",
       "  <thead>\n",
       "    <tr style=\"text-align: right;\">\n",
       "      <th></th>\n",
       "      <th>champion</th>\n",
       "      <th>sum_total</th>\n",
       "      <th>win_total</th>\n",
       "      <th>lose_total</th>\n",
       "      <th>winrate_total</th>\n",
       "      <th>pick_rate</th>\n",
       "      <th>sum_blue_side</th>\n",
       "      <th>win_blue_side</th>\n",
       "      <th>lose_blue_side</th>\n",
       "      <th>winrate_blue_side</th>\n",
       "      <th>sum_red_side</th>\n",
       "      <th>win_red_side</th>\n",
       "      <th>lose_red_side</th>\n",
       "      <th>winrate_red_side</th>\n",
       "      <th>sum_bans</th>\n",
       "      <th>ban_rate</th>\n",
       "      <th>pick_ban_rate</th>\n",
       "    </tr>\n",
       "  </thead>\n",
       "  <tbody>\n",
       "    <tr>\n",
       "      <th>0</th>\n",
       "      <td>84</td>\n",
       "      <td>33</td>\n",
       "      <td>22</td>\n",
       "      <td>16</td>\n",
       "      <td>41</td>\n",
       "      <td>26</td>\n",
       "      <td>18</td>\n",
       "      <td>14</td>\n",
       "      <td>7</td>\n",
       "      <td>27</td>\n",
       "      <td>19</td>\n",
       "      <td>12</td>\n",
       "      <td>10</td>\n",
       "      <td>20</td>\n",
       "      <td>28</td>\n",
       "      <td>21</td>\n",
       "      <td>46</td>\n",
       "    </tr>\n",
       "    <tr>\n",
       "      <th>1</th>\n",
       "      <td>74</td>\n",
       "      <td>32</td>\n",
       "      <td>20</td>\n",
       "      <td>21</td>\n",
       "      <td>22</td>\n",
       "      <td>25</td>\n",
       "      <td>16</td>\n",
       "      <td>11</td>\n",
       "      <td>11</td>\n",
       "      <td>17</td>\n",
       "      <td>21</td>\n",
       "      <td>12</td>\n",
       "      <td>13</td>\n",
       "      <td>15</td>\n",
       "      <td>30</td>\n",
       "      <td>24</td>\n",
       "      <td>47</td>\n",
       "    </tr>\n",
       "    <tr>\n",
       "      <th>2</th>\n",
       "      <td>8</td>\n",
       "      <td>31</td>\n",
       "      <td>20</td>\n",
       "      <td>20</td>\n",
       "      <td>23</td>\n",
       "      <td>24</td>\n",
       "      <td>17</td>\n",
       "      <td>13</td>\n",
       "      <td>12</td>\n",
       "      <td>16</td>\n",
       "      <td>18</td>\n",
       "      <td>10</td>\n",
       "      <td>11</td>\n",
       "      <td>18</td>\n",
       "      <td>26</td>\n",
       "      <td>19</td>\n",
       "      <td>44</td>\n",
       "    </tr>\n",
       "    <tr>\n",
       "      <th>3</th>\n",
       "      <td>0</td>\n",
       "      <td>30</td>\n",
       "      <td>21</td>\n",
       "      <td>16</td>\n",
       "      <td>37</td>\n",
       "      <td>23</td>\n",
       "      <td>19</td>\n",
       "      <td>15</td>\n",
       "      <td>11</td>\n",
       "      <td>26</td>\n",
       "      <td>11</td>\n",
       "      <td>5</td>\n",
       "      <td>6</td>\n",
       "      <td>14</td>\n",
       "      <td>31</td>\n",
       "      <td>27</td>\n",
       "      <td>49</td>\n",
       "    </tr>\n",
       "    <tr>\n",
       "      <th>4</th>\n",
       "      <td>6</td>\n",
       "      <td>29</td>\n",
       "      <td>19</td>\n",
       "      <td>18</td>\n",
       "      <td>29</td>\n",
       "      <td>22</td>\n",
       "      <td>15</td>\n",
       "      <td>10</td>\n",
       "      <td>10</td>\n",
       "      <td>15</td>\n",
       "      <td>20</td>\n",
       "      <td>13</td>\n",
       "      <td>10</td>\n",
       "      <td>23</td>\n",
       "      <td>19</td>\n",
       "      <td>9</td>\n",
       "      <td>36</td>\n",
       "    </tr>\n",
       "  </tbody>\n",
       "</table>\n",
       "</div>"
      ],
      "text/plain": [
       "   champion  sum_total  win_total  lose_total  winrate_total  pick_rate  \\\n",
       "0        84         33         22          16             41         26   \n",
       "1        74         32         20          21             22         25   \n",
       "2         8         31         20          20             23         24   \n",
       "3         0         30         21          16             37         23   \n",
       "4         6         29         19          18             29         22   \n",
       "\n",
       "   sum_blue_side  win_blue_side  lose_blue_side  winrate_blue_side  \\\n",
       "0             18             14               7                 27   \n",
       "1             16             11              11                 17   \n",
       "2             17             13              12                 16   \n",
       "3             19             15              11                 26   \n",
       "4             15             10              10                 15   \n",
       "\n",
       "   sum_red_side  win_red_side  lose_red_side  winrate_red_side  sum_bans  \\\n",
       "0            19            12             10                20        28   \n",
       "1            21            12             13                15        30   \n",
       "2            18            10             11                18        26   \n",
       "3            11             5              6                14        31   \n",
       "4            20            13             10                23        19   \n",
       "\n",
       "   ban_rate  pick_ban_rate  \n",
       "0        21             46  \n",
       "1        24             47  \n",
       "2        19             44  \n",
       "3        27             49  \n",
       "4         9             36  "
      ]
     },
     "execution_count": 18,
     "metadata": {},
     "output_type": "execute_result"
    }
   ],
   "source": [
    "x.head()"
   ]
  },
  {
   "cell_type": "code",
   "execution_count": 19,
   "id": "f4db6e4c",
   "metadata": {},
   "outputs": [
    {
     "data": {
      "text/plain": [
       "<AxesSubplot: >"
      ]
     },
     "execution_count": 19,
     "metadata": {},
     "output_type": "execute_result"
    },
    {
     "data": {
      "image/png": "[encoded data removed]",
      "text/plain": [
       "<Figure size 640x480 with 1 Axes>"
      ]
     },
     "metadata": {},
     "output_type": "display_data"
    }
   ],
   "source": [
    "import seaborn as sns\n",
    "sns.boxplot(x['champion'])"
   ]
  },
  {
   "cell_type": "code",
   "execution_count": 20,
   "id": "1d9ff327",
   "metadata": {},
   "outputs": [
    {
     "data": {
      "text/plain": [
       "<AxesSubplot: >"
      ]
     },
     "execution_count": 20,
     "metadata": {},
     "output_type": "execute_result"
    },
    {
     "data": {
      "image/png": "[encoded data removed]",
      "text/plain": [
       "<Figure size 640x480 with 1 Axes>"
      ]
     },
     "metadata": {},
     "output_type": "display_data"
    }
   ],
   "source": [
    "sns.boxplot(x['win_total'])"
   ]
  },
  {
   "cell_type": "code",
   "execution_count": 21,
   "id": "6ae712cb",
   "metadata": {},
   "outputs": [
    {
     "data": {
      "text/plain": [
       "<AxesSubplot: >"
      ]
     },
     "execution_count": 21,
     "metadata": {},
     "output_type": "execute_result"
    },
    {
     "data": {
      "image/png": "[encoded data removed]",
      "text/plain": [
       "<Figure size 640x480 with 1 Axes>"
      ]
     },
     "metadata": {},
     "output_type": "display_data"
    }
   ],
   "source": [
    "sns.boxplot(x['lose_red_side'])"
   ]
  },
  {
   "cell_type": "code",
   "execution_count": 22,
   "id": "5cbd2569",
   "metadata": {},
   "outputs": [
    {
     "data": {
      "text/plain": [
       "<AxesSubplot: >"
      ]
     },
     "execution_count": 22,
     "metadata": {},
     "output_type": "execute_result"
    },
    {
     "data": {
      "image/png": "[encoded data removed]",
      "text/plain": [
       "<Figure size 640x480 with 1 Axes>"
      ]
     },
     "metadata": {},
     "output_type": "display_data"
    }
   ],
   "source": [
    "# Box Plot\n",
    "import seaborn as sns\n",
    "sns.boxplot(x['pick_ban_rate'])"
   ]
  },
  {
   "cell_type": "code",
   "execution_count": 23,
   "id": "c09a777b",
   "metadata": {},
   "outputs": [
    {
     "name": "stdout",
     "output_type": "stream",
     "text": [
      "(array([ 1, 10], dtype=int64),)\n"
     ]
    }
   ],
   "source": [
    "print(np.where(x['lose_red_side']>11))"
   ]
  },
  {
   "cell_type": "code",
   "execution_count": 24,
   "id": "b5b43ae8",
   "metadata": {},
   "outputs": [
    {
     "name": "stdout",
     "output_type": "stream",
     "text": [
      "(array([  0,   3,   4,   5,   6,   7,   8,   9,  11,  12,  13,  14,  17,\n",
      "        18,  19,  20,  21,  22,  23,  24,  25,  26,  27,  28,  29,  30,\n",
      "        31,  32,  33,  34,  35,  36,  37,  38,  39,  40,  41,  42,  43,\n",
      "        44,  45,  46,  47,  48,  49,  50,  51,  52,  53,  54,  55,  56,\n",
      "        57,  58,  59,  60,  61,  62,  63,  64,  65,  66,  67,  68,  69,\n",
      "        70,  71,  72,  73,  74,  75,  76,  77,  78,  79,  80,  81,  82,\n",
      "        83,  84,  85,  86,  87,  88,  89,  90,  91,  92,  93,  94,  95,\n",
      "        96,  97,  98,  99, 100, 101, 102, 103, 104, 105, 106, 107],\n",
      "      dtype=int64),)\n"
     ]
    }
   ],
   "source": [
    "print(np.where(x['lose_red_side']<11))"
   ]
  },
  {
   "cell_type": "code",
   "execution_count": 25,
   "id": "a8b383da",
   "metadata": {},
   "outputs": [
    {
     "data": {
      "text/plain": [
       "<matplotlib.collections.PathCollection at 0x26761483fa0>"
      ]
     },
     "execution_count": 25,
     "metadata": {},
     "output_type": "execute_result"
    },
    {
     "data": {
      "image/png": "[encoded data removed]",
      "text/plain": [
       "<Figure size 1800x1000 with 1 Axes>"
      ]
     },
     "metadata": {},
     "output_type": "display_data"
    },
    {
     "data": {
      "image/png": "[encoded data removed]",
      "text/plain": [
       "<Figure size 1800x1000 with 1 Axes>"
      ]
     },
     "metadata": {},
     "output_type": "display_data"
    },
    {
     "data": {
      "image/png": "[encoded data removed]",
      "text/plain": [
       "<Figure size 1800x1000 with 1 Axes>"
      ]
     },
     "metadata": {},
     "output_type": "display_data"
    }
   ],
   "source": [
    "\n",
    "# Scatter plot\n",
    "fig, ax = plt.subplots(figsize = (18,10))\n",
    "ax.scatter(x['lose_red_side'], x['pick_ban_rate'])\n",
    "fig, ax = plt.subplots(figsize = (18,10))\n",
    "ax.scatter(x['champion'], x['pick_ban_rate'])\n",
    "fig, ax = plt.subplots(figsize = (18,10))\n",
    "ax.scatter(x['win_total'], x['pick_ban_rate'])"
   ]
  },
  {
   "cell_type": "code",
   "execution_count": 26,
   "id": "c7b48def",
   "metadata": {},
   "outputs": [],
   "source": [
    "from sklearn.ensemble import ExtraTreesRegressor"
   ]
  },
  {
   "cell_type": "code",
   "execution_count": 27,
   "id": "fcb78e62",
   "metadata": {},
   "outputs": [],
   "source": [
    "obje = ExtraTreesRegressor()"
   ]
  },
  {
   "cell_type": "code",
   "execution_count": 28,
   "id": "064820eb",
   "metadata": {},
   "outputs": [
    {
     "data": {
      "text/html": [
       "<style>#sk-container-id-1 {color: black;background-color: white;}#sk-container-id-1 pre{padding: 0;}#sk-container-id-1 div.sk-toggleable {background-color: white;}#sk-container-id-1 label.sk-toggleable__label {cursor: pointer;display: block;width: 100%;margin-bottom: 0;padding: 0.3em;box-sizing: border-box;text-align: center;}#sk-container-id-1 label.sk-toggleable__label-arrow:before {content: \"▸\";float: left;margin-right: 0.25em;color: #696969;}#sk-container-id-1 label.sk-toggleable__label-arrow:hover:before {color: black;}#sk-container-id-1 div.sk-estimator:hover label.sk-toggleable__label-arrow:before {color: black;}#sk-container-id-1 div.sk-toggleable__content {max-height: 0;max-width: 0;overflow: hidden;text-align: left;background-color: #f0f8ff;}#sk-container-id-1 div.sk-toggleable__content pre {margin: 0.2em;color: black;border-radius: 0.25em;background-color: #f0f8ff;}#sk-container-id-1 input.sk-toggleable__control:checked~div.sk-toggleable__content {max-height: 200px;max-width: 100%;overflow: auto;}#sk-container-id-1 input.sk-toggleable__control:checked~label.sk-toggleable__label-arrow:before {content: \"▾\";}#sk-container-id-1 div.sk-estimator input.sk-toggleable__control:checked~label.sk-toggleable__label {background-color: #d4ebff;}#sk-container-id-1 div.sk-label input.sk-toggleable__control:checked~label.sk-toggleable__label {background-color: #d4ebff;}#sk-container-id-1 input.sk-hidden--visually {border: 0;clip: rect(1px 1px 1px 1px);clip: rect(1px, 1px, 1px, 1px);height: 1px;margin: -1px;overflow: hidden;padding: 0;position: absolute;width: 1px;}#sk-container-id-1 div.sk-estimator {font-family: monospace;background-color: #f0f8ff;border: 1px dotted black;border-radius: 0.25em;box-sizing: border-box;margin-bottom: 0.5em;}#sk-container-id-1 div.sk-estimator:hover {background-color: #d4ebff;}#sk-container-id-1 div.sk-parallel-item::after {content: \"\";width: 100%;border-bottom: 1px solid gray;flex-grow: 1;}#sk-container-id-1 div.sk-label:hover label.sk-toggleable__label {background-color: #d4ebff;}#sk-container-id-1 div.sk-serial::before {content: \"\";position: absolute;border-left: 1px solid gray;box-sizing: border-box;top: 0;bottom: 0;left: 50%;z-index: 0;}#sk-container-id-1 div.sk-serial {display: flex;flex-direction: column;align-items: center;background-color: white;padding-right: 0.2em;padding-left: 0.2em;position: relative;}#sk-container-id-1 div.sk-item {position: relative;z-index: 1;}#sk-container-id-1 div.sk-parallel {display: flex;align-items: stretch;justify-content: center;background-color: white;position: relative;}#sk-container-id-1 div.sk-item::before, #sk-container-id-1 div.sk-parallel-item::before {content: \"\";position: absolute;border-left: 1px solid gray;box-sizing: border-box;top: 0;bottom: 0;left: 50%;z-index: -1;}#sk-container-id-1 div.sk-parallel-item {display: flex;flex-direction: column;z-index: 1;position: relative;background-color: white;}#sk-container-id-1 div.sk-parallel-item:first-child::after {align-self: flex-end;width: 50%;}#sk-container-id-1 div.sk-parallel-item:last-child::after {align-self: flex-start;width: 50%;}#sk-container-id-1 div.sk-parallel-item:only-child::after {width: 0;}#sk-container-id-1 div.sk-dashed-wrapped {border: 1px dashed gray;margin: 0 0.4em 0.5em 0.4em;box-sizing: border-box;padding-bottom: 0.4em;background-color: white;}#sk-container-id-1 div.sk-label label {font-family: monospace;font-weight: bold;display: inline-block;line-height: 1.2em;}#sk-container-id-1 div.sk-label-container {text-align: center;}#sk-container-id-1 div.sk-container {/* jupyter's `normalize.less` sets `[hidden] { display: none; }` but bootstrap.min.css set `[hidden] { display: none !important; }` so we also need the `!important` here to be able to override the default hidden behavior on the sphinx rendered scikit-learn.org. See: https://github.com/scikit-learn/scikit-learn/issues/21755 */display: inline-block !important;position: relative;}#sk-container-id-1 div.sk-text-repr-fallback {display: none;}</style><div id=\"sk-container-id-1\" class=\"sk-top-container\"><div class=\"sk-text-repr-fallback\"><pre>ExtraTreesRegressor()</pre><b>In a Jupyter environment, please rerun this cell to show the HTML representation or trust the notebook. <br />On GitHub, the HTML representation is unable to render, please try loading this page with nbviewer.org.</b></div><div class=\"sk-container\" hidden><div class=\"sk-item\"><div class=\"sk-estimator sk-toggleable\"><input class=\"sk-toggleable__control sk-hidden--visually\" id=\"sk-estimator-id-1\" type=\"checkbox\" checked><label for=\"sk-estimator-id-1\" class=\"sk-toggleable__label sk-toggleable__label-arrow\">ExtraTreesRegressor</label><div class=\"sk-toggleable__content\"><pre>ExtraTreesRegressor()</pre></div></div></div></div></div>"
      ],
      "text/plain": [
       "ExtraTreesRegressor()"
      ]
     },
     "execution_count": 28,
     "metadata": {},
     "output_type": "execute_result"
    }
   ],
   "source": [
    "obje.fit(x,y)"
   ]
  },
  {
   "cell_type": "code",
   "execution_count": 29,
   "id": "454cff0a",
   "metadata": {},
   "outputs": [],
   "source": [
    "ver = obje.feature_importances_"
   ]
  },
  {
   "cell_type": "raw",
   "id": "44362d8f",
   "metadata": {},
   "source": [
    "ver"
   ]
  },
  {
   "cell_type": "code",
   "execution_count": 30,
   "id": "3bbeeaf3",
   "metadata": {},
   "outputs": [],
   "source": [
    "top = pd.Series(ver,index=x.columns)"
   ]
  },
  {
   "cell_type": "code",
   "execution_count": 31,
   "id": "33cc7542",
   "metadata": {},
   "outputs": [
    {
     "data": {
      "text/plain": [
       "sum_bans             0.515793\n",
       "pick_ban_rate        0.109911\n",
       "sum_total            0.100502\n",
       "sum_blue_side        0.066103\n",
       "win_total            0.034637\n",
       "sum_red_side         0.034549\n",
       "win_blue_side        0.030898\n",
       "ban_rate             0.025708\n",
       "lose_total           0.022062\n",
       "lose_red_side        0.019442\n",
       "pick_rate            0.019321\n",
       "lose_blue_side       0.009109\n",
       "winrate_blue_side    0.004460\n",
       "win_red_side         0.002732\n",
       "champion             0.001943\n",
       "winrate_red_side     0.001580\n",
       "winrate_total        0.001249\n",
       "dtype: float64"
      ]
     },
     "execution_count": 31,
     "metadata": {},
     "output_type": "execute_result"
    }
   ],
   "source": [
    "top.nlargest(18)"
   ]
  },
  {
   "cell_type": "code",
   "execution_count": 32,
   "id": "fce86a44",
   "metadata": {},
   "outputs": [
    {
     "data": {
      "text/plain": [
       "<AxesSubplot: >"
      ]
     },
     "execution_count": 32,
     "metadata": {},
     "output_type": "execute_result"
    },
    {
     "data": {
      "image/png": "[encoded data removed]",
      "text/plain": [
       "<Figure size 640x480 with 1 Axes>"
      ]
     },
     "metadata": {},
     "output_type": "display_data"
    }
   ],
   "source": [
    "top.nlargest().plot(kind=\"barh\")"
   ]
  },
  {
   "cell_type": "code",
   "execution_count": 33,
   "id": "df479225",
   "metadata": {},
   "outputs": [
    {
     "data": {
      "text/plain": [
       "<AxesSubplot: >"
      ]
     },
     "execution_count": 33,
     "metadata": {},
     "output_type": "execute_result"
    },
    {
     "data": {
      "image/png": "[encoded data removed]",
      "text/plain": [
       "<Figure size 640x480 with 1 Axes>"
      ]
     },
     "metadata": {},
     "output_type": "display_data"
    }
   ],
   "source": [
    "top.nlargest().plot(kind=\"pie\")"
   ]
  },
  {
   "cell_type": "code",
   "execution_count": 34,
   "id": "9f0dbcf7",
   "metadata": {},
   "outputs": [],
   "source": [
    "from sklearn.preprocessing import Normalizer"
   ]
  },
  {
   "cell_type": "code",
   "execution_count": 35,
   "id": "727db889",
   "metadata": {},
   "outputs": [],
   "source": [
    "obj = Normalizer()"
   ]
  },
  {
   "cell_type": "code",
   "execution_count": 36,
   "id": "54c2c4fc",
   "metadata": {},
   "outputs": [],
   "source": [
    "model = obj.fit_transform(x)"
   ]
  },
  {
   "cell_type": "code",
   "execution_count": 37,
   "id": "7f6c5406",
   "metadata": {},
   "outputs": [],
   "source": [
    "from sklearn.model_selection import train_test_split"
   ]
  },
  {
   "cell_type": "code",
   "execution_count": 38,
   "id": "ea42820e",
   "metadata": {},
   "outputs": [],
   "source": [
    "xtrain,xtest,ytrain,ytest = train_test_split(x,y,test_size=0.25,random_state=1)"
   ]
  },
  {
   "cell_type": "code",
   "execution_count": 39,
   "id": "9843395a",
   "metadata": {},
   "outputs": [],
   "source": [
    "from sklearn.linear_model import LinearRegression"
   ]
  },
  {
   "cell_type": "code",
   "execution_count": 40,
   "id": "b61eee8d",
   "metadata": {},
   "outputs": [],
   "source": [
    "model_ = LinearRegression()"
   ]
  },
  {
   "cell_type": "code",
   "execution_count": 41,
   "id": "451facf0",
   "metadata": {},
   "outputs": [
    {
     "data": {
      "text/html": [
       "<style>#sk-container-id-2 {color: black;background-color: white;}#sk-container-id-2 pre{padding: 0;}#sk-container-id-2 div.sk-toggleable {background-color: white;}#sk-container-id-2 label.sk-toggleable__label {cursor: pointer;display: block;width: 100%;margin-bottom: 0;padding: 0.3em;box-sizing: border-box;text-align: center;}#sk-container-id-2 label.sk-toggleable__label-arrow:before {content: \"▸\";float: left;margin-right: 0.25em;color: #696969;}#sk-container-id-2 label.sk-toggleable__label-arrow:hover:before {color: black;}#sk-container-id-2 div.sk-estimator:hover label.sk-toggleable__label-arrow:before {color: black;}#sk-container-id-2 div.sk-toggleable__content {max-height: 0;max-width: 0;overflow: hidden;text-align: left;background-color: #f0f8ff;}#sk-container-id-2 div.sk-toggleable__content pre {margin: 0.2em;color: black;border-radius: 0.25em;background-color: #f0f8ff;}#sk-container-id-2 input.sk-toggleable__control:checked~div.sk-toggleable__content {max-height: 200px;max-width: 100%;overflow: auto;}#sk-container-id-2 input.sk-toggleable__control:checked~label.sk-toggleable__label-arrow:before {content: \"▾\";}#sk-container-id-2 div.sk-estimator input.sk-toggleable__control:checked~label.sk-toggleable__label {background-color: #d4ebff;}#sk-container-id-2 div.sk-label input.sk-toggleable__control:checked~label.sk-toggleable__label {background-color: #d4ebff;}#sk-container-id-2 input.sk-hidden--visually {border: 0;clip: rect(1px 1px 1px 1px);clip: rect(1px, 1px, 1px, 1px);height: 1px;margin: -1px;overflow: hidden;padding: 0;position: absolute;width: 1px;}#sk-container-id-2 div.sk-estimator {font-family: monospace;background-color: #f0f8ff;border: 1px dotted black;border-radius: 0.25em;box-sizing: border-box;margin-bottom: 0.5em;}#sk-container-id-2 div.sk-estimator:hover {background-color: #d4ebff;}#sk-container-id-2 div.sk-parallel-item::after {content: \"\";width: 100%;border-bottom: 1px solid gray;flex-grow: 1;}#sk-container-id-2 div.sk-label:hover label.sk-toggleable__label {background-color: #d4ebff;}#sk-container-id-2 div.sk-serial::before {content: \"\";position: absolute;border-left: 1px solid gray;box-sizing: border-box;top: 0;bottom: 0;left: 50%;z-index: 0;}#sk-container-id-2 div.sk-serial {display: flex;flex-direction: column;align-items: center;background-color: white;padding-right: 0.2em;padding-left: 0.2em;position: relative;}#sk-container-id-2 div.sk-item {position: relative;z-index: 1;}#sk-container-id-2 div.sk-parallel {display: flex;align-items: stretch;justify-content: center;background-color: white;position: relative;}#sk-container-id-2 div.sk-item::before, #sk-container-id-2 div.sk-parallel-item::before {content: \"\";position: absolute;border-left: 1px solid gray;box-sizing: border-box;top: 0;bottom: 0;left: 50%;z-index: -1;}#sk-container-id-2 div.sk-parallel-item {display: flex;flex-direction: column;z-index: 1;position: relative;background-color: white;}#sk-container-id-2 div.sk-parallel-item:first-child::after {align-self: flex-end;width: 50%;}#sk-container-id-2 div.sk-parallel-item:last-child::after {align-self: flex-start;width: 50%;}#sk-container-id-2 div.sk-parallel-item:only-child::after {width: 0;}#sk-container-id-2 div.sk-dashed-wrapped {border: 1px dashed gray;margin: 0 0.4em 0.5em 0.4em;box-sizing: border-box;padding-bottom: 0.4em;background-color: white;}#sk-container-id-2 div.sk-label label {font-family: monospace;font-weight: bold;display: inline-block;line-height: 1.2em;}#sk-container-id-2 div.sk-label-container {text-align: center;}#sk-container-id-2 div.sk-container {/* jupyter's `normalize.less` sets `[hidden] { display: none; }` but bootstrap.min.css set `[hidden] { display: none !important; }` so we also need the `!important` here to be able to override the default hidden behavior on the sphinx rendered scikit-learn.org. See: https://github.com/scikit-learn/scikit-learn/issues/21755 */display: inline-block !important;position: relative;}#sk-container-id-2 div.sk-text-repr-fallback {display: none;}</style><div id=\"sk-container-id-2\" class=\"sk-top-container\"><div class=\"sk-text-repr-fallback\"><pre>LinearRegression()</pre><b>In a Jupyter environment, please rerun this cell to show the HTML representation or trust the notebook. <br />On GitHub, the HTML representation is unable to render, please try loading this page with nbviewer.org.</b></div><div class=\"sk-container\" hidden><div class=\"sk-item\"><div class=\"sk-estimator sk-toggleable\"><input class=\"sk-toggleable__control sk-hidden--visually\" id=\"sk-estimator-id-2\" type=\"checkbox\" checked><label for=\"sk-estimator-id-2\" class=\"sk-toggleable__label sk-toggleable__label-arrow\">LinearRegression</label><div class=\"sk-toggleable__content\"><pre>LinearRegression()</pre></div></div></div></div></div>"
      ],
      "text/plain": [
       "LinearRegression()"
      ]
     },
     "execution_count": 41,
     "metadata": {},
     "output_type": "execute_result"
    }
   ],
   "source": [
    "model_.fit(xtrain,ytrain)"
   ]
  },
  {
   "cell_type": "code",
   "execution_count": 42,
   "id": "777ca1b0",
   "metadata": {},
   "outputs": [
    {
     "data": {
      "text/plain": [
       "0.8911439850631925"
      ]
     },
     "execution_count": 42,
     "metadata": {},
     "output_type": "execute_result"
    }
   ],
   "source": [
    "model_.score(xtest,ytest)"
   ]
  },
  {
   "cell_type": "code",
   "execution_count": 43,
   "id": "1239eb1c",
   "metadata": {},
   "outputs": [
    {
     "data": {
      "text/plain": [
       "array([-1.07331907e-03, -2.15059998e+00,  5.94225314e+00, -2.47154119e+00,\n",
       "       -1.11384539e-01,  6.76991186e-02, -1.06941959e+00, -3.50253410e-01,\n",
       "        4.60728036e+00, -1.44196402e-01,  1.90910670e+00, -4.41502253e+00,\n",
       "        2.36202083e+00, -8.80448284e-02,  2.07170233e+00,  1.02000237e-01,\n",
       "        7.17237362e-02])"
      ]
     },
     "execution_count": 43,
     "metadata": {},
     "output_type": "execute_result"
    }
   ],
   "source": [
    "model_.coef_"
   ]
  },
  {
   "cell_type": "code",
   "execution_count": 44,
   "id": "c5b0cfde",
   "metadata": {},
   "outputs": [
    {
     "data": {
      "text/plain": [
       "-2.5141884568442308"
      ]
     },
     "execution_count": 44,
     "metadata": {},
     "output_type": "execute_result"
    }
   ],
   "source": [
    "model_.intercept_"
   ]
  }
 ],
 "metadata": {
  "kernelspec": {
   "display_name": "Python 3 (ipykernel)",
   "language": "python",
   "name": "python3"
  },
  "language_info": {
   "codemirror_mode": {
    "name": "ipython",
    "version": 3
   },
   "file_extension": ".py",
   "mimetype": "text/x-python",
   "name": "python",
   "nbconvert_exporter": "python",
   "pygments_lexer": "ipython3",
   "version": "3.9.15"
  }
 },
 "nbformat": 4,
 "nbformat_minor": 5
}
